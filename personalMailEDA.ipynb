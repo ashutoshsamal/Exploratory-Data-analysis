{
 "cells": [
  {
   "cell_type": "code",
   "execution_count": 18,
   "id": "796b8179-0a8e-432f-b57d-326550d995df",
   "metadata": {},
   "outputs": [],
   "source": [
    "import mailbox\n",
    "import numpy as np\n",
    "import pandas as pd\n",
    "import matplotlib.pyplot as plt\n",
    "import csv"
   ]
  },
  {
   "cell_type": "code",
   "execution_count": 3,
   "id": "8b5df998-21d0-46b5-9ddf-0ea302283cd1",
   "metadata": {},
   "outputs": [],
   "source": [
    "mboxfile=\"/Users/a0s0iro/Downloads/Takeout/mail/AllmailIncludingSpamandTrash.mbox\"\n",
    "mbox=mailbox.mbox(mboxfile)"
   ]
  },
  {
   "cell_type": "code",
   "execution_count": 11,
   "id": "6f867942-1b30-4e6d-aa36-738cf6ba8044",
   "metadata": {},
   "outputs": [
    {
     "data": {
      "text/plain": [
       "54718"
      ]
     },
     "execution_count": 11,
     "metadata": {},
     "output_type": "execute_result"
    }
   ],
   "source": [
    "len(mbox.keys())"
   ]
  },
  {
   "cell_type": "code",
   "execution_count": 6,
   "id": "3fd765c7-4700-48cd-b2a2-0928e8b7fc7c",
   "metadata": {},
   "outputs": [
    {
     "data": {
      "text/plain": [
       "['X-GM-THRID',\n",
       " 'X-Gmail-Labels',\n",
       " 'Delivered-To',\n",
       " 'Received',\n",
       " 'X-Google-Smtp-Source',\n",
       " 'X-Received',\n",
       " 'ARC-Seal',\n",
       " 'ARC-Message-Signature',\n",
       " 'ARC-Authentication-Results',\n",
       " 'Return-Path',\n",
       " 'Received',\n",
       " 'Received-SPF',\n",
       " 'Authentication-Results',\n",
       " 'DKIM-Signature',\n",
       " 'DKIM-Signature',\n",
       " 'To',\n",
       " 'From',\n",
       " 'Subject',\n",
       " 'Message-Id',\n",
       " 'MIME-Version',\n",
       " 'Content-Type',\n",
       " 'Content-Transfer-Encoding',\n",
       " 'List-Unsubscribe',\n",
       " 'Feedback-Id',\n",
       " 'X-Fncid',\n",
       " 'X-Abuse-Reports-To',\n",
       " 'X-Injtime',\n",
       " 'X-Traffic-Type',\n",
       " 'X-Mta-Source',\n",
       " 'X-Mailer',\n",
       " 'List-Unsubscribe-Post',\n",
       " 'Date']"
      ]
     },
     "execution_count": 6,
     "metadata": {},
     "output_type": "execute_result"
    }
   ],
   "source": [
    "mbox[0].keys()"
   ]
  },
  {
   "cell_type": "code",
   "execution_count": null,
   "id": "04e3b468-8536-49b4-a6cc-8022f32495b2",
   "metadata": {},
   "outputs": [],
   "source": []
  },
  {
   "cell_type": "code",
   "execution_count": 33,
   "id": "e477790c-869a-4c66-bff6-d43cc79eda08",
   "metadata": {},
   "outputs": [],
   "source": [
    "with open('mailbox.csv','w') as outputfile:\n",
    "    writer=csv.writer(outputfile)\n",
    "    writer.writerow(['subject','from','to','label','thread','date'])\n",
    "    for message in mbox:\n",
    "        writer.writerow([\n",
    "            message['Subject'],\n",
    "            message['From'],\n",
    "            message['To'],\n",
    "            message['X-Gmail-Labels'],\n",
    "            message['X-GM-THRID'],\n",
    "            message['Date']\n",
    "            \n",
    "        ])\n",
    "    "
   ]
  },
  {
   "cell_type": "code",
   "execution_count": 37,
   "id": "66a9a7a6-f57b-44d6-b2f0-e9d7ff45919c",
   "metadata": {},
   "outputs": [],
   "source": [
    "col=['subject','from','to','label','thread','date']\n",
    "dfs=pd.read_csv('mailbox.csv',names=col)\n"
   ]
  },
  {
   "cell_type": "code",
   "execution_count": 38,
   "id": "4e002f2b-2009-475e-aab2-768158ab00b4",
   "metadata": {},
   "outputs": [
    {
     "data": {
      "text/plain": [
       "subject    object\n",
       "from       object\n",
       "to         object\n",
       "label      object\n",
       "thread     object\n",
       "date       object\n",
       "dtype: object"
      ]
     },
     "execution_count": 38,
     "metadata": {},
     "output_type": "execute_result"
    }
   ],
   "source": [
    "dfs.dtypes"
   ]
  },
  {
   "cell_type": "code",
   "execution_count": 39,
   "id": "f670814f-c09c-49b4-b453-423950314385",
   "metadata": {},
   "outputs": [
    {
     "data": {
      "text/plain": [
       "0                                         date\n",
       "1              Tue, 30 Jul 2024 21:19:04 +0530\n",
       "2              Wed, 31 Jul 2024 03:33:35 -0600\n",
       "3              Tue, 30 Jul 2024 20:20:19 +0000\n",
       "4              Wed, 31 Jul 2024 15:31:08 +0530\n",
       "                         ...                  \n",
       "54714    Mon, 15 Jul 2024 04:32:28 +0000 (UTC)\n",
       "54715          Sat, 20 May 2023 16:05:17 +0000\n",
       "54716          Wed, 10 Jul 2024 23:45:08 +0000\n",
       "54717           Sun, 9 Jun 2024 17:53:13 -0700\n",
       "54718               25 Jul 2024 01:30:48 -0000\n",
       "Name: date, Length: 54719, dtype: object"
      ]
     },
     "execution_count": 39,
     "metadata": {},
     "output_type": "execute_result"
    }
   ],
   "source": [
    "dfs['date']=dfs['date'].apply(lambda x: pd.to_datetime(x,))"
   ]
  },
  {
   "cell_type": "code",
   "execution_count": null,
   "id": "cb2f4776-88bf-47cd-910f-1afc25c8ac41",
   "metadata": {},
   "outputs": [],
   "source": []
  }
 ],
 "metadata": {
  "kernelspec": {
   "display_name": "Python 3 (ipykernel)",
   "language": "python",
   "name": "python3"
  },
  "language_info": {
   "codemirror_mode": {
    "name": "ipython",
    "version": 3
   },
   "file_extension": ".py",
   "mimetype": "text/x-python",
   "name": "python",
   "nbconvert_exporter": "python",
   "pygments_lexer": "ipython3",
   "version": "3.12.2"
  }
 },
 "nbformat": 4,
 "nbformat_minor": 5
}
